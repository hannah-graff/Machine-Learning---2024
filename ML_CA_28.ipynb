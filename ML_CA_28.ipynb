{
  "nbformat": 4,
  "nbformat_minor": 0,
  "metadata": {
    "colab": {
      "provenance": []
    },
    "kernelspec": {
      "name": "python3",
      "display_name": "Python 3"
    },
    "language_info": {
      "name": "python"
    }
  },
  "cells": [
    {
      "cell_type": "code",
      "execution_count": 2,
      "metadata": {
        "id": "QhC6URQhqhY7",
        "colab": {
          "base_uri": "https://localhost:8080/"
        },
        "outputId": "3d1122c3-4978-41be-b819-8c30182141cb"
      },
      "outputs": [
        {
          "output_type": "stream",
          "name": "stdout",
          "text": [
            "Estimated Value Function:\n",
            "Value(A) = 2.88\n",
            "Value(B) = 0.98\n",
            "Value(C) = 0.52\n",
            "Value(D) = 3.59\n"
          ]
        }
      ],
      "source": [
        "# Modifying the Reward Structure\n",
        "import numpy as np\n",
        "\n",
        "states = ['A', 'B', 'C', 'D']\n",
        "transition_matrix = {'A': 'B', 'B': 'C', 'C': 'D', 'D': 'A'}\n",
        "\n",
        "rewards = {'A': 2, 'B': 0, 'C': -2, 'D': 1}\n",
        "\n",
        "policy = {'A': 'B', 'B': 'C', 'C': 'D', 'D': 'A'}\n",
        "\n",
        "gamma = 0.9\n",
        "value_function = {s: 0 for s in states}\n",
        "iterations = 10\n",
        "\n",
        "def bellman_update(state, value_function, gamma):\n",
        "    next_state = policy[state]\n",
        "    return rewards[state] + gamma * value_function[next_state]\n",
        "\n",
        "for _ in range(iterations):\n",
        "    for s in states:\n",
        "        value_function[s] = bellman_update(s, value_function, gamma)\n",
        "\n",
        "print(\"Estimated Value Function:\")\n",
        "for state, value in value_function.items():\n",
        "    print(f\"Value({state}) = {value:.2f}\")"
      ]
    },
    {
      "cell_type": "code",
      "source": [
        "# Implementing a Probabilistic Policy\n",
        "import numpy as np\n",
        "\n",
        "states = ['A', 'B', 'C', 'D']\n",
        "transitions = {'A': {'B':0.8, 'C':0.2}, 'B': {'C':1.0}, 'C': {'D':0.9, 'A':0.1}, 'D': {'A':1.0}}\n",
        "\n",
        "# rewards = {'A': 2, 'B': 0, 'C': -2, 'D': 1}\n",
        "\n",
        "# policy = {'A': 0.8*'B'+0.2*'C', 'B': 'C', 'C': 'D'*0.9+0.1*'A', 'D': 'A'}\n",
        "\n",
        "gamma = 0.9\n",
        "value_function = {s: 0 for s in states} #dictionary comprehension\n",
        "iterations = 1000\n",
        "threshold=0.01\n",
        "\n",
        "def bellman_update(state, value_function, gamma):\n",
        "  expected_val = 0\n",
        "  for next_state, prob in transitions[state].items():\n",
        "    expected_val += prob*(rewards[state]+gamma*value_function[next_state])\n",
        "  return expected_val\n",
        "\n",
        "for i in range(iterations):\n",
        "  maxdel = 0\n",
        "  new_val_func = value_function.copy()\n",
        "  for s in states:\n",
        "    updated_val = bellman_update(s, value_function, gamma)\n",
        "    maxdel = (maxdel, abs(updated_val - value_function[s]))\n",
        "    new_val_func[s] = updated_val\n",
        "  value_function=new_val_func\n",
        "\n",
        "print(\"Estimated Value Function:\")\n",
        "for state, value in value_function.items():\n",
        "    print(f\"Value({state}) = {value:.2f}\")"
      ],
      "metadata": {
        "colab": {
          "base_uri": "https://localhost:8080/"
        },
        "id": "JCgo-1R6rDoe",
        "outputId": "779921b1-5613-4906-da4e-398ac52e35e4"
      },
      "execution_count": 12,
      "outputs": [
        {
          "output_type": "stream",
          "name": "stdout",
          "text": [
            "Estimated Value Function:\n",
            "Value(A) = 3.15\n",
            "Value(B) = 1.25\n",
            "Value(C) = 1.39\n",
            "Value(D) = 3.84\n"
          ]
        }
      ]
    }
  ]
}