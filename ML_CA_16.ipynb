{
  "nbformat": 4,
  "nbformat_minor": 0,
  "metadata": {
    "colab": {
      "provenance": []
    },
    "kernelspec": {
      "name": "python3",
      "display_name": "Python 3"
    },
    "language_info": {
      "name": "python"
    }
  },
  "cells": [
    {
      "cell_type": "code",
      "execution_count": 1,
      "metadata": {
        "id": "p-JHLX82cVUI"
      },
      "outputs": [],
      "source": [
        "import numpy as np\n",
        "from sklearn import datasets\n",
        "from sklearn.svm import SVC\n",
        "from sklearn.model_selection import train_test_split\n",
        "from sklearn.preprocessing import StandardScaler\n",
        "from sklearn.metrics import accuracy_score, classification_report"
      ]
    },
    {
      "cell_type": "code",
      "source": [
        "mnist = datasets.fetch_openml('mnist_784')\n",
        "\n",
        "X = mnist.data[:1000]\n",
        "X/=255.0\n",
        "y = mnist.target[:1000]\n",
        "\n",
        "X_train, X_test, y_train, y_test = train_test_split(X, y, test_size=0.2, random_state=42)"
      ],
      "metadata": {
        "colab": {
          "base_uri": "https://localhost:8080/"
        },
        "id": "v8R3sjsictE6",
        "outputId": "05a6fffb-693d-4bda-d210-e5cd7ebbe55f"
      },
      "execution_count": 2,
      "outputs": [
        {
          "output_type": "stream",
          "name": "stderr",
          "text": [
            "/usr/local/lib/python3.10/dist-packages/sklearn/datasets/_openml.py:968: FutureWarning: The default value of `parser` will change from `'liac-arff'` to `'auto'` in 1.4. You can set `parser='auto'` to silence this warning. Therefore, an `ImportError` will be raised from 1.4 if the dataset is dense and pandas is not installed. Note that the pandas parser may return different data types. See the Notes Section in fetch_openml's API doc for details.\n",
            "  warn(\n"
          ]
        }
      ]
    },
    {
      "cell_type": "code",
      "source": [
        "svm_classifier = SVC(kernel='linear', C=1.0, random_state=42)\n",
        "svm_classifier.fit(X_train, y_train)\n",
        "\n",
        "y_pred = svm_classifier.predict(X_test)"
      ],
      "metadata": {
        "id": "MpKgcBTjdLnz"
      },
      "execution_count": 3,
      "outputs": []
    },
    {
      "cell_type": "code",
      "source": [
        "accuracy = accuracy_score(y_test, y_pred)\n",
        "print(f'Accuracy: {accuracy:.2f}')\n",
        "\n",
        "print(\"Classification Report:\\n\", classification_report(y_test, y_pred))"
      ],
      "metadata": {
        "colab": {
          "base_uri": "https://localhost:8080/"
        },
        "id": "4WmQTDYBdtAp",
        "outputId": "01044299-d6ce-40bf-f878-8bde599e7ca6"
      },
      "execution_count": 5,
      "outputs": [
        {
          "output_type": "stream",
          "name": "stdout",
          "text": [
            "Accuracy: 0.88\n",
            "Classification Report:\n",
            "               precision    recall  f1-score   support\n",
            "\n",
            "           0       0.90      1.00      0.95        19\n",
            "           1       0.83      0.95      0.88        20\n",
            "           2       0.77      0.91      0.83        22\n",
            "           3       0.85      0.88      0.87        26\n",
            "           4       0.88      0.93      0.90        15\n",
            "           5       0.81      0.76      0.79        17\n",
            "           6       0.91      0.87      0.89        23\n",
            "           7       1.00      0.83      0.91        24\n",
            "           8       1.00      0.85      0.92        13\n",
            "           9       0.89      0.76      0.82        21\n",
            "\n",
            "    accuracy                           0.88       200\n",
            "   macro avg       0.88      0.88      0.88       200\n",
            "weighted avg       0.88      0.88      0.87       200\n",
            "\n"
          ]
        }
      ]
    }
  ]
}