{
  "nbformat": 4,
  "nbformat_minor": 0,
  "metadata": {
    "colab": {
      "provenance": []
    },
    "kernelspec": {
      "name": "python3",
      "display_name": "Python 3"
    },
    "language_info": {
      "name": "python"
    }
  },
  "cells": [
    {
      "cell_type": "code",
      "execution_count": 9,
      "metadata": {
        "id": "g5fxLCn8TJ2O"
      },
      "outputs": [],
      "source": [
        "import numpy as np\n",
        "import pandas as pd\n",
        "from sklearn.model_selection import train_test_split\n",
        "from sklearn.preprocessing import MinMaxScaler\n",
        "from tensorflow.keras.models import Sequential\n",
        "from tensorflow.keras.layers import LSTM, Dense\n",
        "from tensorflow.keras.metrics import RootMeanSquaredError\n",
        "from sklearn.metrics import mean_squared_error"
      ]
    },
    {
      "cell_type": "code",
      "source": [
        "data = pd.read_csv(\"AAPL_stock_sequences.csv\")\n",
        "X = data.iloc[:, [-1]].values\n",
        "y = data.iloc[:, -1].values\n",
        "X = X.reshape((X.shape[0], X.shape[1], 1))"
      ],
      "metadata": {
        "id": "UmVYk-VAUNiv"
      },
      "execution_count": 12,
      "outputs": []
    },
    {
      "cell_type": "code",
      "source": [
        "X_train, X_test, y_train, y_test = train_test_split(X, y, test_size=0.2, random_state=42)"
      ],
      "metadata": {
        "id": "-o43i4cyUign"
      },
      "execution_count": 13,
      "outputs": []
    },
    {
      "cell_type": "code",
      "source": [
        "model = Sequential([LSTM(50, input_shape=(X_train.shape[1],1)),\n",
        "                    Dense(1)])"
      ],
      "metadata": {
        "id": "DFOSdqsZUpbQ"
      },
      "execution_count": 14,
      "outputs": []
    },
    {
      "cell_type": "code",
      "source": [
        "model.compile(optimizer='adam', loss='mean_squared_error', metrics=[RootMeanSquaredError()])\n",
        "model.fit(X_train, y_train, epochs=10, batch_size=32, verbose=2)\n",
        "predictions = model.predict(X_test)\n",
        "rmse = np.sqrt(mean_squared_error(y_test, predictions))\n",
        "print(f'Root Mean Squared Error: {rmse:.4f}')"
      ],
      "metadata": {
        "colab": {
          "base_uri": "https://localhost:8080/"
        },
        "id": "_I5XLK7FU0MQ",
        "outputId": "0d88ed3b-9c62-4e52-fe26-e14369ec773a"
      },
      "execution_count": null,
      "outputs": [
        {
          "output_type": "stream",
          "name": "stdout",
          "text": [
            "Epoch 1/10\n",
            "30/30 - 6s - loss: 0.0065 - root_mean_squared_error: 0.0806 - 6s/epoch - 189ms/step\n",
            "Epoch 2/10\n",
            "30/30 - 0s - loss: 0.0015 - root_mean_squared_error: 0.0383 - 264ms/epoch - 9ms/step\n"
          ]
        }
      ]
    }
  ]
}