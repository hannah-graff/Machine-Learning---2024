{
 "cells": [
  {
   "cell_type": "code",
   "execution_count": 5,
   "id": "99fd67c0",
   "metadata": {},
   "outputs": [],
   "source": [
    "import warnings, requests, zipfile, io\n",
    "warnings.simplefilter('ignore')\n",
    "import pandas as pd\n",
    "from scipy.io import arff\n",
    "import boto3"
   ]
  },
  {
   "cell_type": "code",
   "execution_count": 6,
   "id": "ff56eb71",
   "metadata": {},
   "outputs": [],
   "source": [
    "f_zip = 'http://archive.ics.uci.edu/ml/machine-learning-databases/00212/vertebral_column_data.zip'\n",
    "r = requests.get(f_zip, stream=True)\n",
    "Vertebral_zip = zipfile.ZipFile(io.BytesIO(r.content))\n",
    "Vertebral_zip.extractall()"
   ]
  },
  {
   "cell_type": "code",
   "execution_count": 7,
   "id": "06091569",
   "metadata": {},
   "outputs": [],
   "source": [
    "data = arff.loadarff('column_2C_weka.arff')\n",
    "df = pd.DataFrame(data[0])"
   ]
  },
  {
   "cell_type": "code",
   "execution_count": 8,
   "id": "0871bbb9",
   "metadata": {},
   "outputs": [
    {
     "data": {
      "text/html": [
       "<div>\n",
       "<style scoped>\n",
       "    .dataframe tbody tr th:only-of-type {\n",
       "        vertical-align: middle;\n",
       "    }\n",
       "\n",
       "    .dataframe tbody tr th {\n",
       "        vertical-align: top;\n",
       "    }\n",
       "\n",
       "    .dataframe thead th {\n",
       "        text-align: right;\n",
       "    }\n",
       "</style>\n",
       "<table border=\"1\" class=\"dataframe\">\n",
       "  <thead>\n",
       "    <tr style=\"text-align: right;\">\n",
       "      <th></th>\n",
       "      <th>pelvic_incidence</th>\n",
       "      <th>pelvic_tilt</th>\n",
       "      <th>lumbar_lordosis_angle</th>\n",
       "      <th>sacral_slope</th>\n",
       "      <th>pelvic_radius</th>\n",
       "      <th>degree_spondylolisthesis</th>\n",
       "      <th>class</th>\n",
       "    </tr>\n",
       "  </thead>\n",
       "  <tbody>\n",
       "    <tr>\n",
       "      <th>0</th>\n",
       "      <td>63.027817</td>\n",
       "      <td>22.552586</td>\n",
       "      <td>39.609117</td>\n",
       "      <td>40.475232</td>\n",
       "      <td>98.672917</td>\n",
       "      <td>-0.254400</td>\n",
       "      <td>b'Abnormal'</td>\n",
       "    </tr>\n",
       "    <tr>\n",
       "      <th>1</th>\n",
       "      <td>39.056951</td>\n",
       "      <td>10.060991</td>\n",
       "      <td>25.015378</td>\n",
       "      <td>28.995960</td>\n",
       "      <td>114.405425</td>\n",
       "      <td>4.564259</td>\n",
       "      <td>b'Abnormal'</td>\n",
       "    </tr>\n",
       "    <tr>\n",
       "      <th>2</th>\n",
       "      <td>68.832021</td>\n",
       "      <td>22.218482</td>\n",
       "      <td>50.092194</td>\n",
       "      <td>46.613539</td>\n",
       "      <td>105.985135</td>\n",
       "      <td>-3.530317</td>\n",
       "      <td>b'Abnormal'</td>\n",
       "    </tr>\n",
       "    <tr>\n",
       "      <th>3</th>\n",
       "      <td>69.297008</td>\n",
       "      <td>24.652878</td>\n",
       "      <td>44.311238</td>\n",
       "      <td>44.644130</td>\n",
       "      <td>101.868495</td>\n",
       "      <td>11.211523</td>\n",
       "      <td>b'Abnormal'</td>\n",
       "    </tr>\n",
       "    <tr>\n",
       "      <th>4</th>\n",
       "      <td>49.712859</td>\n",
       "      <td>9.652075</td>\n",
       "      <td>28.317406</td>\n",
       "      <td>40.060784</td>\n",
       "      <td>108.168725</td>\n",
       "      <td>7.918501</td>\n",
       "      <td>b'Abnormal'</td>\n",
       "    </tr>\n",
       "  </tbody>\n",
       "</table>\n",
       "</div>"
      ],
      "text/plain": [
       "   pelvic_incidence  pelvic_tilt  lumbar_lordosis_angle  sacral_slope  \\\n",
       "0         63.027817    22.552586              39.609117     40.475232   \n",
       "1         39.056951    10.060991              25.015378     28.995960   \n",
       "2         68.832021    22.218482              50.092194     46.613539   \n",
       "3         69.297008    24.652878              44.311238     44.644130   \n",
       "4         49.712859     9.652075              28.317406     40.060784   \n",
       "\n",
       "   pelvic_radius  degree_spondylolisthesis        class  \n",
       "0      98.672917                 -0.254400  b'Abnormal'  \n",
       "1     114.405425                  4.564259  b'Abnormal'  \n",
       "2     105.985135                 -3.530317  b'Abnormal'  \n",
       "3     101.868495                 11.211523  b'Abnormal'  \n",
       "4     108.168725                  7.918501  b'Abnormal'  "
      ]
     },
     "execution_count": 8,
     "metadata": {},
     "output_type": "execute_result"
    }
   ],
   "source": [
    "df.head()"
   ]
  },
  {
   "cell_type": "code",
   "execution_count": 12,
   "id": "80ad25c3",
   "metadata": {},
   "outputs": [],
   "source": [
    "class_mapper = {b'Abnormal':1,b'Normal':0}\n",
    "df['class']=df['class'].replace(class_mapper)"
   ]
  },
  {
   "cell_type": "code",
   "execution_count": 15,
   "id": "b73693fc",
   "metadata": {},
   "outputs": [
    {
     "data": {
      "text/plain": [
       "Index(['pelvic_incidence', 'pelvic_tilt', 'lumbar_lordosis_angle',\n",
       "       'sacral_slope', 'pelvic_radius', 'degree_spondylolisthesis', 'class'],\n",
       "      dtype='object')"
      ]
     },
     "execution_count": 15,
     "metadata": {},
     "output_type": "execute_result"
    }
   ],
   "source": [
    "df.shape"
   ]
  },
  {
   "cell_type": "code",
   "execution_count": 16,
   "id": "13fda317",
   "metadata": {},
   "outputs": [
    {
     "data": {
      "text/plain": [
       "Index(['pelvic_incidence', 'pelvic_tilt', 'lumbar_lordosis_angle',\n",
       "       'sacral_slope', 'pelvic_radius', 'degree_spondylolisthesis', 'class'],\n",
       "      dtype='object')"
      ]
     },
     "execution_count": 16,
     "metadata": {},
     "output_type": "execute_result"
    }
   ],
   "source": [
    "df.columns"
   ]
  },
  {
   "cell_type": "code",
   "execution_count": 17,
   "id": "449530a0",
   "metadata": {},
   "outputs": [
    {
     "data": {
      "text/plain": [
       "Index(['class', 'pelvic_incidence', 'pelvic_tilt', 'lumbar_lordosis_angle',\n",
       "       'sacral_slope', 'pelvic_radius', 'degree_spondylolisthesis'],\n",
       "      dtype='object')"
      ]
     },
     "execution_count": 17,
     "metadata": {},
     "output_type": "execute_result"
    }
   ],
   "source": [
    "cols = df.columns.tolist()\n",
    "cols = cols[-1:] + cols[:-1]\n",
    "df = df[cols]\n",
    "\n",
    "df.columns"
   ]
  },
  {
   "cell_type": "code",
   "execution_count": 18,
   "id": "1b94c9c4",
   "metadata": {},
   "outputs": [],
   "source": [
    "from sklearn.model_selection import train_test_split\n",
    "train, test_and_validate = train_test_split(df, test_size=0.2, random_state=42, stratify=df['class'])"
   ]
  },
  {
   "cell_type": "code",
   "execution_count": 19,
   "id": "137df8ff",
   "metadata": {},
   "outputs": [],
   "source": [
    "test, validate = train_test_split(test_and_validate, test_size=0.5, random_state=42, stratify=test_and_validate['class'])"
   ]
  },
  {
   "cell_type": "code",
   "execution_count": 21,
   "id": "2a63b5c0",
   "metadata": {},
   "outputs": [
    {
     "name": "stdout",
     "output_type": "stream",
     "text": [
      "(248, 7)\n",
      "(31, 7)\n",
      "(31, 7)\n"
     ]
    }
   ],
   "source": [
    "print(train.shape)\n",
    "print(test.shape)\n",
    "print(validate.shape)"
   ]
  },
  {
   "cell_type": "code",
   "execution_count": 22,
   "id": "2e387a19",
   "metadata": {},
   "outputs": [
    {
     "name": "stdout",
     "output_type": "stream",
     "text": [
      "class  pelvic_incidence  pelvic_tilt  lumbar_lordosis_angle  sacral_slope  pelvic_radius  degree_spondylolisthesis\n",
      "0      30.741938         13.354966    35.903526              17.386972     142.410107     -2.005373                   1\n",
      "1      66.879211         24.891999    49.278597              41.987212     113.477018     -2.005892                   1\n",
      "       63.404481         14.115327    48.136806              49.289153     111.916008      31.784495                  1\n",
      "       63.772391         12.763385    65.360524              51.009006     89.822741       55.995454                  1\n",
      "       63.834982         20.362507    54.552434              43.472475     112.309491     -0.622527                   1\n",
      "                                                                                                                     ..\n",
      "       38.663257         12.986441    40.000000              25.676816     124.914118      2.703008                   1\n",
      "       38.697912         13.444749    31.000000              25.253163     123.159251      1.429186                   1\n",
      "       39.056951         10.060991    25.015378              28.995960     114.405425      4.564259                   1\n",
      "       40.250200         13.921907    25.124950              26.328293     130.327871      2.230652                   1\n",
      "       129.834041        8.404475     48.384057              121.429566    107.690466      418.543082                 1\n",
      "Name: count, Length: 248, dtype: int64\n",
      "class  pelvic_incidence  pelvic_tilt  lumbar_lordosis_angle  sacral_slope  pelvic_radius  degree_spondylolisthesis\n",
      "0      44.362490         8.945435     46.902096              35.417055     129.220682      4.994195                   1\n",
      "1      57.522356         33.647075    50.909858              23.875281     140.981712      148.753711                 1\n",
      "       89.680567         32.704435    83.130732              56.976132     129.955476      92.027277                  1\n",
      "       88.024499         39.844669    81.774473              48.179830     116.601538      56.766083                  1\n",
      "       84.585607         30.361685    65.479486              54.223922     108.010218      25.118478                  1\n",
      "       78.401254         14.042260    79.694263              64.358994     104.731234      12.392853                  1\n",
      "       77.655119         22.432950    93.892779              55.222169     123.055707      61.211187                  1\n",
      "       77.121344         30.349874    77.481083              46.771470     110.611148      82.093607                  1\n",
      "       74.433593         41.557331    27.700000              32.876262     107.949304      5.000089                   1\n",
      "       72.643850         18.929117    68.000000              53.714733     116.963416      25.384247                  1\n",
      "       71.186811         23.896201    43.696665              47.290610     119.864938      27.283985                  1\n",
      "       69.781006         13.777465    58.000000              56.003541     118.930666      17.914560                  1\n",
      "       67.263149         7.194661     51.696887              60.068488     97.801085       42.136943                  1\n",
      "       63.027817         22.552586    39.609117              40.475232     98.672917      -0.254400                   1\n",
      "       61.411737         25.384364    39.096869              36.027373     103.404597      21.843407                  1\n",
      "       52.204693         17.212673    78.094969              34.992020     136.972517      54.939134                  1\n",
      "0      45.575482         18.759135    33.774143              26.816347     116.797007      3.131910                   1\n",
      "1      50.066786         9.120340     32.168463              40.946446     99.712453       26.766697                  1\n",
      "       49.712859         9.652075     28.317406              40.060784     108.168725      7.918501                   1\n",
      "       44.936675         17.443838    27.780576              27.492837     117.980324      5.569620                   1\n",
      "       41.352504         16.577364    30.706191              24.775141     113.266675     -4.497958                   1\n",
      "       32.090987         6.989378     35.998198              25.101609     132.264735      6.413428                   1\n",
      "0      89.834676         22.639217    90.563461              67.195460     100.501192      3.040973                   1\n",
      "       74.976021         14.921705    53.730072              60.054317     105.645400      1.594748                   1\n",
      "       65.611802         23.137919    62.582179              42.473883     124.128001     -4.083298                   1\n",
      "       64.261507         14.497866    43.902504              49.763642     115.388268      5.951454                   1\n",
      "       59.167612         14.562749    43.199158              44.604863     121.035642      2.830504                   1\n",
      "       54.600316         21.488974    29.360216              33.111342     118.343321     -1.471067                   1\n",
      "       51.311771         8.875541     57.000000              42.436230     126.472258     -2.144044                   1\n",
      "       46.236399         10.062770    37.000000              36.173629     128.063620     -5.100053                   1\n",
      "1      118.144655        38.449501    50.838520              79.695154     81.024541       74.043767                  1\n",
      "Name: count, dtype: int64\n",
      "class  pelvic_incidence  pelvic_tilt  lumbar_lordosis_angle  sacral_slope  pelvic_radius  degree_spondylolisthesis\n",
      "0      34.756738         2.631740     29.504381              32.124998     127.139849     -0.460894                   1\n",
      "1      49.782121         6.466805     53.000000              43.315316     110.864783      25.335647                  1\n",
      "       86.900794         32.928168    47.794347              53.972627     135.075364      101.719092                 1\n",
      "       85.290173         18.278890    100.744220             67.011283     110.660701      58.884948                  1\n",
      "       81.112605         20.690444    60.687006              60.422161     94.018783       40.510982                  1\n",
      "       80.111572         33.942432    85.101608              46.169139     125.593624      100.292107                 1\n",
      "       80.074914         48.069531    52.403439              32.005383     110.709912      67.727316                  1\n",
      "       77.106571         30.469994    69.480628              46.636577     112.151600      70.759083                  1\n",
      "       74.094731         18.823727    76.032156              55.271004     128.405731      73.388216                  1\n",
      "       73.635962         9.711318     63.000000              63.924644     98.727930       26.975787                  1\n",
      "       70.399308         13.469986    61.200000              56.929322     102.337524      25.538429                  1\n",
      "       65.665347         10.540675    56.489135              55.124672     109.162777      53.932020                  1\n",
      "       59.595540         31.998244    46.560252              27.597296     119.330354      1.474286                   1\n",
      "       57.300227         24.188885    47.000000              33.111342     116.806587      5.766947                   1\n",
      "       50.825029         9.064729     56.300000              41.760300     78.999454       23.041524                  1\n",
      "       46.442078         8.395036     29.037230              38.047043     115.481405      2.045476                   1\n",
      "0      35.877571         1.112374     43.457257              34.765197     126.923906     -1.632238                   1\n",
      "1      44.529051         9.433234     52.000000              35.095817     134.711772      29.106575                  1\n",
      "       43.580964         16.508884    47.000000              27.072080     109.271634      8.992816                   1\n",
      "       35.492446         11.701672    15.590363              23.790774     106.938852     -3.460358                   1\n",
      "       31.232387         17.715819    15.500000              13.516568     120.055399      0.499751                   1\n",
      "       26.147921         10.759454    14.000000              15.388468     125.203296     -10.093108                  1\n",
      "0      89.014875         26.075981    69.021259              62.938894     111.481075      6.061508                   1\n",
      "       56.447026         19.444499    43.577846              37.002527     139.189690     -1.859689                   1\n",
      "       54.920858         18.968430    51.601455              35.952428     125.846646      2.001642                   1\n",
      "       53.911054         12.939318    39.000000              40.971736     118.193035      5.074353                   1\n",
      "       49.828135         16.736435    28.000000              33.091700     121.435558      1.913307                   1\n",
      "       42.517272         14.375671    25.323565              28.141601     128.905689      0.757020                   1\n",
      "       40.683229         9.148437     31.021593              31.534792     139.118472     -2.511619                   1\n",
      "       39.656902         16.208839    36.674857              23.448063     131.922009     -4.968980                   1\n",
      "1      89.504947         48.903653    72.003423              40.601295     134.634291      118.353370                 1\n",
      "Name: count, dtype: int64\n"
     ]
    }
   ],
   "source": [
    "print(train.value_counts())\n",
    "print(test.value_counts())\n",
    "print(validate.value_counts())"
   ]
  },
  {
   "cell_type": "code",
   "execution_count": 24,
   "id": "eb74a2b5",
   "metadata": {},
   "outputs": [],
   "source": [
    "bucket='c111962a2657706l6279384t1w285959631517-labbucket-usv7f4qimdcx'\n",
    "\n",
    "prefix='lab3'\n",
    "\n",
    "train_file='vertebral_train.csv'\n",
    "test_file='vertebral_test.csv'\n",
    "validate_file='vertebral_validate.csv'\n",
    "\n",
    "import os\n",
    "\n",
    "s3_resource = boto3.Session().resource('s3')\n",
    "def upload_s3_csv(filename, folder, dataframe):\n",
    "    csv_buffer = io.StringIO()\n",
    "    dataframe.to_csv(csv_buffer, header=False, index=False)\n",
    "    s3_resource.Bucket(bucket).Object(os.path.join(prefix, folder, filename)).put(Body=csv_buffer.getvalue())"
   ]
  },
  {
   "cell_type": "code",
   "execution_count": 25,
   "id": "d7ee4dfc",
   "metadata": {},
   "outputs": [],
   "source": [
    "upload_s3_csv(train_file, 'train', train)\n",
    "upload_s3_csv(test_file, 'test', test)\n",
    "upload_s3_csv(validate_file, 'validate', validate)"
   ]
  },
  {
   "cell_type": "code",
   "execution_count": 26,
   "id": "533a38ad",
   "metadata": {},
   "outputs": [
    {
     "name": "stdout",
     "output_type": "stream",
     "text": [
      "sagemaker.config INFO - Not applying SDK defaults from location: /etc/xdg/sagemaker/config.yaml\n",
      "sagemaker.config INFO - Not applying SDK defaults from location: /home/ec2-user/.config/sagemaker/config.yaml\n"
     ]
    }
   ],
   "source": [
    "import boto3\n",
    "from sagemaker.image_uris import retrieve\n",
    "container = retrieve('xgboost',boto3.Session().region_name,'1.0-1')"
   ]
  },
  {
   "cell_type": "code",
   "execution_count": 27,
   "id": "60ff2978",
   "metadata": {},
   "outputs": [],
   "source": [
    "hyperparams={\"num_round\":\"42\",\n",
    "             \"eval_metric\": \"auc\",\n",
    "             \"objective\": \"binary:logistic\"}"
   ]
  },
  {
   "cell_type": "code",
   "execution_count": 28,
   "id": "40010337",
   "metadata": {},
   "outputs": [],
   "source": [
    "import sagemaker\n",
    "s3_output_location=\"s3://{}/{}/output/\".format(bucket,prefix)\n",
    "xgb_model=sagemaker.estimator.Estimator(container,\n",
    "                                       sagemaker.get_execution_role(),\n",
    "                                       instance_count=1,\n",
    "                                       instance_type='ml.m4.xlarge',\n",
    "                                       output_path=s3_output_location,\n",
    "                                        hyperparameters=hyperparams,\n",
    "                                        sagemaker_session=sagemaker.Session())"
   ]
  },
  {
   "cell_type": "code",
   "execution_count": 29,
   "id": "7e42b1cb",
   "metadata": {},
   "outputs": [],
   "source": [
    "train_channel = sagemaker.inputs.TrainingInput(\n",
    "    \"s3://{}/{}/train/\".format(bucket,prefix,train_file),\n",
    "    content_type='text/csv')\n",
    "\n",
    "validate_channel = sagemaker.inputs.TrainingInput(\n",
    "    \"s3://{}/{}/validate/\".format(bucket,prefix,validate_file),\n",
    "    content_type='text/csv')\n",
    "\n",
    "data_channels = {'train': train_channel, 'validation': validate_channel}"
   ]
  },
  {
   "cell_type": "code",
   "execution_count": 30,
   "id": "2c6cffe4",
   "metadata": {},
   "outputs": [
    {
     "name": "stderr",
     "output_type": "stream",
     "text": [
      "INFO:sagemaker:Creating training-job with name: sagemaker-xgboost-2024-03-27-23-48-11-778\n"
     ]
    },
    {
     "name": "stdout",
     "output_type": "stream",
     "text": [
      "\n",
      "2024-03-27 23:48:12 Starting - Starting the training job..\n",
      "2024-03-27 23:48:27 Starting - Preparing the instances for training......\n",
      "2024-03-27 23:49:07 Downloading - Downloading input data......\n",
      "2024-03-27 23:49:42 Downloading - Downloading the training image........\n",
      "2024-03-27 23:50:27 Training - Training image download completed. Training in progress.....\n",
      "2024-03-27 23:50:53 Uploading - Uploading generated training model.\n",
      "2024-03-27 23:51:04 Completed - Training job completed\n"
     ]
    }
   ],
   "source": [
    "xgb_model.fit(inputs=data_channels, logs=False)"
   ]
  }
 ],
 "metadata": {
  "kernelspec": {
   "display_name": "conda_python3",
   "language": "python",
   "name": "conda_python3"
  },
  "language_info": {
   "codemirror_mode": {
    "name": "ipython",
    "version": 3
   },
   "file_extension": ".py",
   "mimetype": "text/x-python",
   "name": "python",
   "nbconvert_exporter": "python",
   "pygments_lexer": "ipython3",
   "version": "3.10.13"
  }
 },
 "nbformat": 4,
 "nbformat_minor": 5
}
