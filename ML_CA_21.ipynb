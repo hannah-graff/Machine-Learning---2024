{
  "nbformat": 4,
  "nbformat_minor": 0,
  "metadata": {
    "colab": {
      "provenance": []
    },
    "kernelspec": {
      "name": "python3",
      "display_name": "Python 3"
    },
    "language_info": {
      "name": "python"
    }
  },
  "cells": [
    {
      "cell_type": "code",
      "execution_count": 4,
      "metadata": {
        "id": "zXTLHNhShtaU"
      },
      "outputs": [],
      "source": [
        "import numpy as np\n",
        "\n",
        "bias = 1.25\n",
        "weights = np.array([0.2,0.8,-0.5,0.9])\n",
        "\n",
        "observation1 = np.array([55.0,4.5,2.4,8.0])\n",
        "observation2 = np.array([40.75,1.2,0.5,2.2])\n",
        "observation3 = np.array([61.90,3.8,1.8,5.5])\n",
        "observation4 = np.array([22.35,0.9,0.75,1.65])"
      ]
    },
    {
      "cell_type": "code",
      "source": [
        "print(\"Prediction 1: {0:.2f}\".format(weights.dot(observation1)+bias))\n",
        "print(\"Prediction 2: {0:.2f}\".format(weights.dot(observation2)+bias))\n",
        "print(\"Prediction 3: {0:.2f}\".format(weights.dot(observation3)+bias))\n",
        "print(\"Prediction 4: {0:.2f}\".format(weights.dot(observation4)+bias))"
      ],
      "metadata": {
        "colab": {
          "base_uri": "https://localhost:8080/"
        },
        "id": "NTlwZtYxi-9r",
        "outputId": "dc0ac73a-a9ba-4b12-9fb1-d1027db0943f"
      },
      "execution_count": 9,
      "outputs": [
        {
          "output_type": "stream",
          "name": "stdout",
          "text": [
            "Prediction 1: 21.85\n",
            "Prediction 2: 12.09\n",
            "Prediction 3: 20.72\n",
            "Prediction 4: 7.55\n"
          ]
        }
      ]
    }
  ]
}