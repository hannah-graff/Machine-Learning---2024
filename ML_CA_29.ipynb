{
  "nbformat": 4,
  "nbformat_minor": 0,
  "metadata": {
    "colab": {
      "provenance": []
    },
    "kernelspec": {
      "name": "python3",
      "display_name": "Python 3"
    },
    "language_info": {
      "name": "python"
    }
  },
  "cells": [
    {
      "cell_type": "markdown",
      "source": [
        "# Image 1"
      ],
      "metadata": {
        "id": "ldMeNK99oXbs"
      }
    },
    {
      "cell_type": "code",
      "execution_count": 3,
      "metadata": {
        "colab": {
          "base_uri": "https://localhost:8080/"
        },
        "id": "R8y2vox0oPD1",
        "outputId": "1afde7f0-26a3-41b9-d10f-87588b9a6e65"
      },
      "outputs": [
        {
          "output_type": "stream",
          "name": "stdout",
          "text": [
            "1/1 [==============================] - 3s 3s/step\n",
            "puffer (22.10%)\n"
          ]
        }
      ],
      "source": [
        "# Using Pre-Trained model as a Classifier\n",
        "from tensorflow.keras.preprocessing.image import load_img\n",
        "from tensorflow.keras.preprocessing.image import img_to_array\n",
        "from keras.applications.inception_v3 import preprocess_input\n",
        "from keras.applications.inception_v3 import decode_predictions\n",
        "from keras.applications.inception_v3 import InceptionV3\n",
        "\n",
        "# Loading an image from the file\n",
        "image = load_img('dumbooct.jpg', target_size=(299, 299))\n",
        "\n",
        "# Converting the image pixels to a numpy array\n",
        "image = img_to_array(image)\n",
        "\n",
        "image = image.reshape((1, image.shape[0], image.shape[1], image.shape[2]))\n",
        "\n",
        "image = preprocess_input(image)\n",
        "\n",
        "model_inception = InceptionV3()\n",
        "yhat = model_inception.predict(image)\n",
        "label = decode_predictions(yhat)\n",
        "\n",
        "label = label[0][0]\n",
        "\n",
        "# Printing the classification\n",
        "print('%s (%.2f%%)' % (label[1], label[2]*100))"
      ]
    },
    {
      "cell_type": "code",
      "source": [
        "# Using Pre-Trained model as a Classifier\n",
        "from tensorflow.keras.preprocessing.image import load_img\n",
        "from tensorflow.keras.preprocessing.image import img_to_array\n",
        "from keras.applications.vgg16 import preprocess_input\n",
        "from keras.applications.vgg16 import decode_predictions\n",
        "from keras.applications.vgg16 import VGG16\n",
        "\n",
        "# Loading an image from the file\n",
        "image = load_img('dumbooct.jpg', target_size=(224, 224))\n",
        "\n",
        "# Converting the image pixels to a numpy array\n",
        "image = img_to_array(image)\n",
        "\n",
        "# Reshaping of data for the model\n",
        "image = image.reshape((1, image.shape[0], image.shape[1], image.shape[2]))\n",
        "\n",
        "# Preparing the image for the VGG model\n",
        "image = preprocess_input(image)\n",
        "\n",
        "# Loading the model\n",
        "model_vgg = VGG16()\n",
        "\n",
        "# Probability prediction across all output classes\n",
        "yhat = model_vgg.predict(image)\n",
        "\n",
        "# Converting the probabilities to class labels\n",
        "label = decode_predictions(yhat)\n",
        "\n",
        "# Retrieving the most likely result such as highest probability\n",
        "label = label[0][0]\n",
        "\n",
        "# Printing the classification\n",
        "print('%s (%.2f%%)' % (label[1], label[2]*100))"
      ],
      "metadata": {
        "colab": {
          "base_uri": "https://localhost:8080/"
        },
        "id": "Ib-NfPMMojDE",
        "outputId": "113c6f13-fca9-461d-a641-9fa5efdaf2f7"
      },
      "execution_count": 4,
      "outputs": [
        {
          "output_type": "stream",
          "name": "stdout",
          "text": [
            "1/1 [==============================] - 1s 657ms/step\n",
            "piggy_bank (86.25%)\n"
          ]
        }
      ]
    },
    {
      "cell_type": "code",
      "source": [
        "# Using Pre-Trained model as a Classifier\n",
        "from tensorflow.keras.preprocessing.image import load_img\n",
        "from tensorflow.keras.preprocessing.image import img_to_array\n",
        "from tensorflow.keras.applications.resnet50 import preprocess_input\n",
        "from tensorflow.keras.applications.resnet50 import decode_predictions\n",
        "from tensorflow.keras.applications.resnet50 import ResNet50\n",
        "\n",
        "\n",
        "# Loading an image from the file\n",
        "image = load_img('dumbooct.jpg', target_size=(224, 224))\n",
        "\n",
        "# Converting the image pixels to a numpy array\n",
        "image = img_to_array(image)\n",
        "\n",
        "# Reshaping of data for the model\n",
        "image = image.reshape((1, image.shape[0], image.shape[1], image.shape[2]))\n",
        "\n",
        "# Preparing the image for the VGG model\n",
        "image = preprocess_input(image)\n",
        "\n",
        "# Loading the model\n",
        "model_resnet = ResNet50()\n",
        "\n",
        "# Probability prediction across all output classes\n",
        "yhat = model_resnet.predict(image)\n",
        "\n",
        "# Converting the probabilities to class labels\n",
        "label = decode_predictions(yhat)\n",
        "\n",
        "# Retrieving the most likely result such as highest probability\n",
        "label = label[0][0]\n",
        "\n",
        "# Printing the classification\n",
        "print('%s (%.2f%%)' % (label[1], label[2]*100))"
      ],
      "metadata": {
        "colab": {
          "base_uri": "https://localhost:8080/"
        },
        "id": "aW_n90zholAQ",
        "outputId": "85d46689-b4d5-4c79-a357-f7be5e6f3528"
      },
      "execution_count": 5,
      "outputs": [
        {
          "output_type": "stream",
          "name": "stdout",
          "text": [
            "Downloading data from https://storage.googleapis.com/tensorflow/keras-applications/resnet/resnet50_weights_tf_dim_ordering_tf_kernels.h5\n",
            "102967424/102967424 [==============================] - 4s 0us/step\n"
          ]
        },
        {
          "output_type": "stream",
          "name": "stderr",
          "text": [
            "WARNING:tensorflow:5 out of the last 5 calls to <function Model.make_predict_function.<locals>.predict_function at 0x7fbd7078bf40> triggered tf.function retracing. Tracing is expensive and the excessive number of tracings could be due to (1) creating @tf.function repeatedly in a loop, (2) passing tensors with different shapes, (3) passing Python objects instead of tensors. For (1), please define your @tf.function outside of the loop. For (2), @tf.function has reduce_retracing=True option that can avoid unnecessary retracing. For (3), please refer to https://www.tensorflow.org/guide/function#controlling_retracing and https://www.tensorflow.org/api_docs/python/tf/function for  more details.\n"
          ]
        },
        {
          "output_type": "stream",
          "name": "stdout",
          "text": [
            "1/1 [==============================] - 2s 2s/step\n",
            "piggy_bank (63.85%)\n"
          ]
        }
      ]
    },
    {
      "cell_type": "markdown",
      "source": [
        "Image 2"
      ],
      "metadata": {
        "id": "JeG2t699orD1"
      }
    },
    {
      "cell_type": "code",
      "source": [
        "image = load_img('axolotl.jpg', target_size=(299, 299))\n",
        "\n",
        "# Converting the image pixels to a numpy array\n",
        "image = img_to_array(image)\n",
        "\n",
        "image = image.reshape((1, image.shape[0], image.shape[1], image.shape[2]))\n",
        "\n",
        "image = preprocess_input(image)\n",
        "\n",
        "model_inception = InceptionV3()\n",
        "yhat = model_inception.predict(image)\n",
        "label = decode_predictions(yhat)\n",
        "\n",
        "label = label[0][0]\n",
        "\n",
        "# Printing the classification\n",
        "print('%s (%.2f%%)' % (label[1], label[2]*100))"
      ],
      "metadata": {
        "colab": {
          "base_uri": "https://localhost:8080/"
        },
        "id": "Fdy_n379or6N",
        "outputId": "e7338646-1d04-4e6c-bcb6-8c17b6f9a042"
      },
      "execution_count": 1,
      "outputs": [
        {
          "output_type": "stream",
          "name": "stdout",
          "text": [
            "Downloading data from https://storage.googleapis.com/tensorflow/keras-applications/inception_v3/inception_v3_weights_tf_dim_ordering_tf_kernels.h5\n",
            "96112376/96112376 [==============================] - 4s 0us/step\n",
            "1/1 [==============================] - 2s 2s/step\n",
            "Downloading data from https://storage.googleapis.com/download.tensorflow.org/data/imagenet_class_index.json\n",
            "35363/35363 [==============================] - 0s 0us/step\n",
            "axolotl (85.87%)\n"
          ]
        }
      ]
    },
    {
      "cell_type": "code",
      "source": [
        "image = load_img('axolotl.jpg', target_size=(224, 224))\n",
        "\n",
        "# Converting the image pixels to a numpy array\n",
        "image = img_to_array(image)\n",
        "\n",
        "# Reshaping of data for the model\n",
        "image = image.reshape((1, image.shape[0], image.shape[1], image.shape[2]))\n",
        "\n",
        "# Preparing the image for the VGG model\n",
        "image = preprocess_input(image)\n",
        "\n",
        "# Loading the model\n",
        "model_vgg = VGG16()\n",
        "\n",
        "# Probability prediction across all output classes\n",
        "yhat = model_vgg.predict(image)\n",
        "\n",
        "# Converting the probabilities to class labels\n",
        "label = decode_predictions(yhat)\n",
        "\n",
        "# Retrieving the most likely result such as highest probability\n",
        "label = label[0][0]\n",
        "\n",
        "# Printing the classification\n",
        "print('%s (%.2f%%)' % (label[1], label[2]*100))"
      ],
      "metadata": {
        "colab": {
          "base_uri": "https://localhost:8080/"
        },
        "id": "7Z-gi3KposQL",
        "outputId": "c405994b-6f5d-4064-d700-ea87c1640e67"
      },
      "execution_count": 2,
      "outputs": [
        {
          "output_type": "stream",
          "name": "stdout",
          "text": [
            "Downloading data from https://storage.googleapis.com/tensorflow/keras-applications/vgg16/vgg16_weights_tf_dim_ordering_tf_kernels.h5\n",
            "553467096/553467096 [==============================] - 18s 0us/step\n",
            "1/1 [==============================] - 1s 669ms/step\n",
            "axolotl (100.00%)\n"
          ]
        }
      ]
    },
    {
      "cell_type": "code",
      "source": [
        "image = load_img('axolotl.jpg', target_size=(224, 224))\n",
        "\n",
        "# Converting the image pixels to a numpy array\n",
        "image = img_to_array(image)\n",
        "\n",
        "# Reshaping of data for the model\n",
        "image = image.reshape((1, image.shape[0], image.shape[1], image.shape[2]))\n",
        "\n",
        "# Preparing the image for the VGG model\n",
        "image = preprocess_input(image)\n",
        "\n",
        "# Loading the model\n",
        "model_resnet = ResNet50()\n",
        "\n",
        "# Probability prediction across all output classes\n",
        "yhat = model_resnet.predict(image)\n",
        "\n",
        "# Converting the probabilities to class labels\n",
        "label = decode_predictions(yhat)\n",
        "\n",
        "# Retrieving the most likely result such as highest probability\n",
        "label = label[0][0]\n",
        "\n",
        "# Printing the classification\n",
        "print('%s (%.2f%%)' % (label[1], label[2]*100))"
      ],
      "metadata": {
        "colab": {
          "base_uri": "https://localhost:8080/"
        },
        "id": "4O7Dm8XIomtr",
        "outputId": "86ed6322-584e-45b6-9809-98caf2d36c84"
      },
      "execution_count": 6,
      "outputs": [
        {
          "output_type": "stream",
          "name": "stderr",
          "text": [
            "WARNING:tensorflow:6 out of the last 6 calls to <function Model.make_predict_function.<locals>.predict_function at 0x7fbd704cae60> triggered tf.function retracing. Tracing is expensive and the excessive number of tracings could be due to (1) creating @tf.function repeatedly in a loop, (2) passing tensors with different shapes, (3) passing Python objects instead of tensors. For (1), please define your @tf.function outside of the loop. For (2), @tf.function has reduce_retracing=True option that can avoid unnecessary retracing. For (3), please refer to https://www.tensorflow.org/guide/function#controlling_retracing and https://www.tensorflow.org/api_docs/python/tf/function for  more details.\n"
          ]
        },
        {
          "output_type": "stream",
          "name": "stdout",
          "text": [
            "1/1 [==============================] - 2s 2s/step\n",
            "axolotl (100.00%)\n"
          ]
        }
      ]
    },
    {
      "cell_type": "markdown",
      "source": [
        "Image 3"
      ],
      "metadata": {
        "id": "8_gFxAvKooOQ"
      }
    },
    {
      "cell_type": "code",
      "source": [
        "image = load_img('kol.webp', target_size=(299, 299))\n",
        "\n",
        "# Converting the image pixels to a numpy array\n",
        "image = img_to_array(image)\n",
        "\n",
        "image = image.reshape((1, image.shape[0], image.shape[1], image.shape[2]))\n",
        "\n",
        "image = preprocess_input(image)\n",
        "\n",
        "model_inception = InceptionV3()\n",
        "yhat = model_inception.predict(image)\n",
        "label = decode_predictions(yhat)\n",
        "\n",
        "label = label[0][0]\n",
        "\n",
        "# Printing the classification\n",
        "print('%s (%.2f%%)' % (label[1], label[2]*100))"
      ],
      "metadata": {
        "colab": {
          "base_uri": "https://localhost:8080/"
        },
        "id": "BuBdekj_ovO9",
        "outputId": "90d9347b-22cf-4f53-96c5-eca045522a77"
      },
      "execution_count": 7,
      "outputs": [
        {
          "output_type": "stream",
          "name": "stdout",
          "text": [
            "1/1 [==============================] - 3s 3s/step\n",
            "clog (86.51%)\n"
          ]
        }
      ]
    },
    {
      "cell_type": "code",
      "source": [
        "image = load_img('kol.webp', target_size=(224, 224))\n",
        "\n",
        "# Converting the image pixels to a numpy array\n",
        "image = img_to_array(image)\n",
        "\n",
        "# Reshaping of data for the model\n",
        "image = image.reshape((1, image.shape[0], image.shape[1], image.shape[2]))\n",
        "\n",
        "# Preparing the image for the VGG model\n",
        "image = preprocess_input(image)\n",
        "\n",
        "# Loading the model\n",
        "model_vgg = VGG16()\n",
        "\n",
        "# Probability prediction across all output classes\n",
        "yhat = model_vgg.predict(image)\n",
        "\n",
        "# Converting the probabilities to class labels\n",
        "label = decode_predictions(yhat)\n",
        "\n",
        "# Retrieving the most likely result such as highest probability\n",
        "label = label[0][0]\n",
        "\n",
        "# Printing the classification\n",
        "print('%s (%.2f%%)' % (label[1], label[2]*100))"
      ],
      "metadata": {
        "colab": {
          "base_uri": "https://localhost:8080/"
        },
        "id": "mDuY71-SovGa",
        "outputId": "b937c609-74b0-4a88-addc-35007a57781e"
      },
      "execution_count": 8,
      "outputs": [
        {
          "output_type": "stream",
          "name": "stdout",
          "text": [
            "1/1 [==============================] - 1s 654ms/step\n",
            "koala (99.99%)\n"
          ]
        }
      ]
    },
    {
      "cell_type": "code",
      "source": [
        "image = load_img('kol.webp', target_size=(224, 224))\n",
        "\n",
        "# Converting the image pixels to a numpy array\n",
        "image = img_to_array(image)\n",
        "\n",
        "# Reshaping of data for the model\n",
        "image = image.reshape((1, image.shape[0], image.shape[1], image.shape[2]))\n",
        "\n",
        "# Preparing the image for the VGG model\n",
        "image = preprocess_input(image)\n",
        "\n",
        "# Loading the model\n",
        "model_resnet = ResNet50()\n",
        "\n",
        "# Probability prediction across all output classes\n",
        "yhat = model_resnet.predict(image)\n",
        "\n",
        "# Converting the probabilities to class labels\n",
        "label = decode_predictions(yhat)\n",
        "\n",
        "# Retrieving the most likely result such as highest probability\n",
        "label = label[0][0]\n",
        "\n",
        "# Printing the classification\n",
        "print('%s (%.2f%%)' % (label[1], label[2]*100))"
      ],
      "metadata": {
        "colab": {
          "base_uri": "https://localhost:8080/"
        },
        "id": "nWyiRfXkonYF",
        "outputId": "33152779-074a-4603-b6ba-cf9c5609a02f"
      },
      "execution_count": 9,
      "outputs": [
        {
          "output_type": "stream",
          "name": "stdout",
          "text": [
            "1/1 [==============================] - 1s 1s/step\n",
            "koala (94.73%)\n"
          ]
        }
      ]
    }
  ]
}