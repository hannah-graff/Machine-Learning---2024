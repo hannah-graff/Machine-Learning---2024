{
  "nbformat": 4,
  "nbformat_minor": 0,
  "metadata": {
    "colab": {
      "provenance": []
    },
    "kernelspec": {
      "name": "python3",
      "display_name": "Python 3"
    },
    "language_info": {
      "name": "python"
    }
  },
  "cells": [
    {
      "cell_type": "code",
      "execution_count": 6,
      "metadata": {
        "id": "4icd8-2AHtC5"
      },
      "outputs": [],
      "source": [
        "import pandas as pd\n",
        "from sklearn.model_selection import train_test_split\n",
        "from sklearn.neighbors import KNeighborsClassifier\n",
        "from sklearn.metrics import accuracy_score\n",
        "from sklearn.preprocessing import OneHotEncoder\n",
        "import matplotlib.pyplot as plt"
      ]
    },
    {
      "cell_type": "code",
      "source": [
        "# Load the data set\n",
        "food = pd.read_csv('restaurants.csv')"
      ],
      "metadata": {
        "id": "LNIm6WbkIHi9"
      },
      "execution_count": 2,
      "outputs": []
    },
    {
      "cell_type": "code",
      "source": [
        "# Inspect the data\n",
        "df = pd.DataFrame(food)\n",
        "print(df)\n",
        "print(\"\\nAny missing variables:\", df.isnull().values.any())\n",
        "print(\"\\nData types by column:\\n\", df.dtypes)"
      ],
      "metadata": {
        "colab": {
          "base_uri": "https://localhost:8080/"
        },
        "id": "tS1zocPjIVG5",
        "outputId": "c2ec0378-50e8-4fb0-c9b1-1c46ed6d5757"
      },
      "execution_count": 3,
      "outputs": [
        {
          "output_type": "stream",
          "name": "stdout",
          "text": [
            "    Cuisine  Location  Seats  Success\n",
            "0   Italian  Downtown     50        1\n",
            "1   Chinese   Suburbs     30        0\n",
            "2  American  Downtown     70        1\n",
            "3   Mexican   Suburbs     60        1\n",
            "4  Japanese  Downtown     40        0\n",
            "5   Italian  Downtown     55        1\n",
            "6   Chinese   Suburbs     35        0\n",
            "7  American  Downtown     80        1\n",
            "8   Mexican   Suburbs     65        1\n",
            "9  Japanese  Downtown     45        0\n",
            "\n",
            "Any missing variables: False\n",
            "\n",
            "Data types by column:\n",
            " Cuisine     object\n",
            "Location    object\n",
            "Seats        int64\n",
            "Success      int64\n",
            "dtype: object\n"
          ]
        }
      ]
    },
    {
      "cell_type": "code",
      "source": [
        "# One Hot Encoder\n",
        "encoder = OneHotEncoder(sparse_output=False)\n",
        "X = df.drop('Success', axis=1)\n",
        "y = df['Success']\n",
        "\n",
        "X_encoded = encoder.fit_transform(X[['Cuisine', 'Location']])\n",
        "X_encoded_df = pd.DataFrame(X_encoded, columns=encoder.get_feature_names_out(['Cuisine', 'Location']))\n",
        "X_encoded_df = pd.concat([X_encoded_df, df[['Seats']]], axis=1)  # done horizontally"
      ],
      "metadata": {
        "id": "Gbly5_FMXatF"
      },
      "execution_count": 16,
      "outputs": []
    },
    {
      "cell_type": "markdown",
      "source": [
        "Model Evaluation and Building"
      ],
      "metadata": {
        "id": "WIX40yyqKHu4"
      }
    },
    {
      "cell_type": "code",
      "source": [
        "# Split Data into Training/Testing\n",
        "from sklearn.model_selection import train_test_split\n",
        "X_train, X_test, y_train, y_test = train_test_split(X_encoded_df, y, test_size=0.2, random_state=42)"
      ],
      "metadata": {
        "id": "tJKeKyqIKKG-"
      },
      "execution_count": 19,
      "outputs": []
    },
    {
      "cell_type": "code",
      "source": [
        "# Initialize and Train the Classifier\n",
        "from sklearn.neighbors import KNeighborsClassifier\n",
        "\n",
        "k_values = [3,5,7]\n",
        "accuracies = []\n",
        "\n",
        "for k in k_values:\n",
        "  knn = KNeighborsClassifier(n_neighbors = k)\n",
        "  knn.fit(X_train, y_train)\n",
        "  y_pred = knn.predict(X_test)\n",
        "  accuracy = accuracy_score(y_test, y_pred)\n",
        "  accuracies.append(accuracy)\n",
        "  print(f\"Accuracy with k={k}: {accuracy}\")\n",
        "\n",
        "plt.plot(k_values, accuracies, marker='o')\n",
        "plt.xlabel('k value')"
      ],
      "metadata": {
        "id": "l6GeqpfVKiCX",
        "colab": {
          "base_uri": "https://localhost:8080/",
          "height": 518
        },
        "outputId": "e58b250e-6059-4262-aa8f-82b3121be39f"
      },
      "execution_count": 20,
      "outputs": [
        {
          "output_type": "stream",
          "name": "stdout",
          "text": [
            "Accuracy with k=3: 1.0\n",
            "Accuracy with k=5: 1.0\n",
            "Accuracy with k=7: 0.5\n"
          ]
        },
        {
          "output_type": "execute_result",
          "data": {
            "text/plain": [
              "Text(0.5, 0, 'k value')"
            ]
          },
          "metadata": {},
          "execution_count": 20
        },
        {
          "output_type": "display_data",
          "data": {
            "text/plain": [
              "<Figure size 640x480 with 1 Axes>"
            ],
            "image/png": "[encoded data removed]"
          },
          "metadata": {}
        }
      ]
    },
    {
      "cell_type": "markdown",
      "source": [
        "Thus, either a k-value of 3 or 5 is the best"
      ],
      "metadata": {
        "id": "-QuDJm-bZ4Pm"
      }
    }
  ]
}