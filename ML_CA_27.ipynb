{
  "nbformat": 4,
  "nbformat_minor": 0,
  "metadata": {
    "colab": {
      "provenance": []
    },
    "kernelspec": {
      "name": "python3",
      "display_name": "Python 3"
    },
    "language_info": {
      "name": "python"
    }
  },
  "cells": [
    {
      "cell_type": "code",
      "execution_count": 1,
      "metadata": {
        "colab": {
          "base_uri": "https://localhost:8080/"
        },
        "id": "yt8-HTklicXZ",
        "outputId": "bb06e9a1-af6e-4811-8a12-9954cc20ca59"
      },
      "outputs": [
        {
          "output_type": "stream",
          "name": "stdout",
          "text": [
            "Estimated Value Function:\n",
            "Value(A) = 3.87\n",
            "Value(B) = 2.91\n",
            "Value(C) = 4.91\n",
            "Value(D) = 3.48\n"
          ]
        }
      ],
      "source": [
        "import numpy as np\n",
        "\n",
        "states = ['A', 'B', 'C', 'D']\n",
        "transition_matrix = {'A': 'B', 'B': 'C', 'C': 'D', 'D': 'A'}\n",
        "\n",
        "rewards = {'A': 1, 'B': -1, 'C': 2, 'D': 0}\n",
        "\n",
        "policy = {'A': 'B', 'B': 'C', 'C': 'D', 'D': 'A'}\n",
        "\n",
        "gamma = 0.9\n",
        "value_function = {s: 0 for s in states}\n",
        "iterations = 10\n",
        "\n",
        "def bellman_update(state, value_function, gamma):\n",
        "    next_state = policy[state]\n",
        "    return rewards[state] + gamma * value_function[next_state]\n",
        "\n",
        "for _ in range(iterations):\n",
        "    for s in states:\n",
        "        value_function[s] = bellman_update(s, value_function, gamma)\n",
        "\n",
        "print(\"Estimated Value Function:\")\n",
        "for state, value in value_function.items():\n",
        "    print(f\"Value({state}) = {value:.2f}\")"
      ]
    }
  ]
}