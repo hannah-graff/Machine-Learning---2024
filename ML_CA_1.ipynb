{
  "nbformat": 4,
  "nbformat_minor": 0,
  "metadata": {
    "colab": {
      "provenance": []
    },
    "kernelspec": {
      "name": "python3",
      "display_name": "Python 3"
    },
    "language_info": {
      "name": "python"
    }
  },
  "cells": [
    {
      "cell_type": "code",
      "execution_count": 2,
      "metadata": {
        "id": "BnLNxbaG7qGu"
      },
      "outputs": [],
      "source": [
        "import numpy as np\n",
        "\n",
        "row_vec = np.array([1,2,3])\n",
        "col_vec = np.array([[1],[2],[3]])"
      ]
    },
    {
      "cell_type": "markdown",
      "source": [
        "Question 1"
      ],
      "metadata": {
        "id": "tCHhJkB57_i0"
      }
    },
    {
      "cell_type": "code",
      "source": [
        "print(\"Row vector:\", row_vec)"
      ],
      "metadata": {
        "colab": {
          "base_uri": "https://localhost:8080/"
        },
        "id": "tA4Hi-Rq76IA",
        "outputId": "2ec72930-0189-4dc7-bf91-e5b808403ac6"
      },
      "execution_count": 10,
      "outputs": [
        {
          "output_type": "stream",
          "name": "stdout",
          "text": [
            "Row vector: [1 2 3]\n"
          ]
        }
      ]
    },
    {
      "cell_type": "markdown",
      "source": [
        "Question 2"
      ],
      "metadata": {
        "id": "ZgwtQ38W8A2k"
      }
    },
    {
      "cell_type": "code",
      "source": [
        "print(\"Column Vector:\\n\", col_vec)"
      ],
      "metadata": {
        "colab": {
          "base_uri": "https://localhost:8080/"
        },
        "id": "oyu2FG0y78JO",
        "outputId": "d318c647-b3b5-46a6-a52e-1fbb7e243066"
      },
      "execution_count": 12,
      "outputs": [
        {
          "output_type": "stream",
          "name": "stdout",
          "text": [
            "Column Vector:\n",
            " [[1]\n",
            " [2]\n",
            " [3]]\n"
          ]
        }
      ]
    },
    {
      "cell_type": "markdown",
      "source": [
        "Question 3"
      ],
      "metadata": {
        "id": "t85WEorS8CCH"
      }
    },
    {
      "cell_type": "code",
      "source": [
        "three_by_three = np.array([[1,2,3],[4,5,6],[7,8,9]])\n",
        "print(\"a.)\", three_by_three)\n",
        "print(\"\\nb.)\", three_by_three[1,1])\n",
        "print(\"\\nc.)\", three_by_three[:2,:])\n",
        "print(\"\\nd.)\", three_by_three[2,:])\n",
        "print(\"\\ne.)\", three_by_three[:,2])"
      ],
      "metadata": {
        "colab": {
          "base_uri": "https://localhost:8080/"
        },
        "id": "oeGoYZjG8DC8",
        "outputId": "50d1a0b5-ac80-4bde-9185-0a34d6a06f2e"
      },
      "execution_count": 18,
      "outputs": [
        {
          "output_type": "stream",
          "name": "stdout",
          "text": [
            "a.) [[1 2 3]\n",
            " [4 5 6]\n",
            " [7 8 9]]\n",
            "\n",
            "b.) 5\n",
            "\n",
            "c.) [[1 2 3]\n",
            " [4 5 6]]\n",
            "\n",
            "d.) [7 8 9]\n",
            "\n",
            "e.) [3 6 9]\n"
          ]
        }
      ]
    }
  ]
}