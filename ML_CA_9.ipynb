{
  "nbformat": 4,
  "nbformat_minor": 0,
  "metadata": {
    "colab": {
      "provenance": []
    },
    "kernelspec": {
      "name": "python3",
      "display_name": "Python 3"
    },
    "language_info": {
      "name": "python"
    }
  },
  "cells": [
    {
      "cell_type": "code",
      "execution_count": 1,
      "metadata": {
        "id": "ukFPz3eSYUPd"
      },
      "outputs": [],
      "source": [
        "import numpy as np\n",
        "from sklearn.model_selection import train_test_split\n",
        "from sklearn.linear_model import Lasso, Ridge, ElasticNet\n",
        "from sklearn.datasets import make_regression\n",
        "from sklearn.metrics import mean_squared_error"
      ]
    },
    {
      "cell_type": "code",
      "source": [
        "x, y = make_regression(n_samples=200, n_features=3, noise=15, random_state=42)\n",
        "x_train, x_test, y_train, y_test = train_test_split(x, y, test_size=0.2, random_state=42)"
      ],
      "metadata": {
        "id": "8lXSh2JbadEk"
      },
      "execution_count": 2,
      "outputs": []
    },
    {
      "cell_type": "code",
      "source": [
        "# Lasso\n",
        "lasso = Lasso(alpha=0.9)\n",
        "lasso.fit(x_train, y_train)\n",
        "lasso_pred = lasso.predict(x_test)\n",
        "lasso_mse = mean_squared_error(y_test, lasso_pred)\n",
        "print(f\"Lasso (L1) MSE: {lasso_mse}\")"
      ],
      "metadata": {
        "colab": {
          "base_uri": "https://localhost:8080/"
        },
        "id": "HL0CkWMwalik",
        "outputId": "ced19a37-b19f-4764-aa39-29c5aad6a8d7"
      },
      "execution_count": 9,
      "outputs": [
        {
          "output_type": "stream",
          "name": "stdout",
          "text": [
            "Lasso (L1) MSE: 291.6514634246287\n"
          ]
        }
      ]
    },
    {
      "cell_type": "code",
      "source": [
        "ridge = Ridge(alpha=0.9)\n",
        "ridge.fit(x_train, y_train)\n",
        "ridge_pred = ridge.predict(x_test)\n",
        "ridge_mse = mean_squared_error(y_test, ridge_pred)\n",
        "print(f\"Ridge (L2) MSE: {ridge_mse}\")"
      ],
      "metadata": {
        "colab": {
          "base_uri": "https://localhost:8080/"
        },
        "id": "u0mZOBTMaz9y",
        "outputId": "b23541b1-d8a3-488f-eeab-dc868a2a74c1"
      },
      "execution_count": 10,
      "outputs": [
        {
          "output_type": "stream",
          "name": "stdout",
          "text": [
            "Ridge (L2) MSE: 297.5346639336882\n"
          ]
        }
      ]
    },
    {
      "cell_type": "code",
      "source": [
        "elastic_net = ElasticNet(alpha=0.9, l1_ratio=0.5)\n",
        "elastic_net.fit(x_train, y_train)\n",
        "elastic_net_pred = elastic_net.predict(x_test)\n",
        "elastic_net_mse = mean_squared_error(y_test, elastic_net_pred)\n",
        "print(f\"Elastic Net MSE: {elastic_net_mse}\")"
      ],
      "metadata": {
        "colab": {
          "base_uri": "https://localhost:8080/"
        },
        "id": "t9iD59WBa9tg",
        "outputId": "54518754-b730-479e-e276-74f34680882d"
      },
      "execution_count": 11,
      "outputs": [
        {
          "output_type": "stream",
          "name": "stdout",
          "text": [
            "Elastic Net MSE: 1226.172732229408\n"
          ]
        }
      ]
    },
    {
      "cell_type": "markdown",
      "source": [
        "**Alpha=0.1**\n",
        "\n",
        "The MSE was the best for the Lasso Method, followed closely by the Ridge Method. The MSE for the Elastic Net was 312, which was approximately 15 above the L1 and L2 Regularization. As the L1 Regularization was the best, the model likely had few coefficients different from zero.\n",
        "\n",
        "**Alpha=?**\n",
        "\n",
        "At 0.5, the Elastic Net was more than 350 worse than the other regularization methods. L1 was still the best. The higher alpha, L1 was still slightly better than L2 but the Elastic Net got further and further away."
      ],
      "metadata": {
        "id": "3MMCYZclAsOE"
      }
    }
  ]
}