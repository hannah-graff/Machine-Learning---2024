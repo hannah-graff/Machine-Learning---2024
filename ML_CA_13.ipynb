{
  "nbformat": 4,
  "nbformat_minor": 0,
  "metadata": {
    "colab": {
      "provenance": []
    },
    "kernelspec": {
      "name": "python3",
      "display_name": "Python 3"
    },
    "language_info": {
      "name": "python"
    }
  },
  "cells": [
    {
      "cell_type": "code",
      "source": [
        "import math"
      ],
      "metadata": {
        "id": "6cDD3pmcc9pn"
      },
      "execution_count": 7,
      "outputs": []
    },
    {
      "cell_type": "code",
      "execution_count": 10,
      "metadata": {
        "id": "NVEOPBhtbbPZ"
      },
      "outputs": [],
      "source": [
        "def calculate_entroy (labels):\n",
        "  label_counts = {}\n",
        "  for label in labels:\n",
        "      if label not in label_counts:\n",
        "          label_counts[label] = 1\n",
        "      else:\n",
        "          label_counts[label] += 1\n",
        "  num_instances = len(labels)\n",
        "\n",
        "  # index = 0\n",
        "  # while (index < num_instances):\n",
        "  #     print(\"Probability of belonging to class \" + labels[index] + \":\" + index/num_instances)\n",
        "  #     index += 1\n",
        "\n",
        "  entropy=0\n",
        "  for label in label_counts:\n",
        "    prob = label_counts[label]/float(num_instances)\n",
        "    if prob > 0:\n",
        "      entropy -= prob * math.log2(prob)\n",
        "  return entropy"
      ]
    },
    {
      "cell_type": "code",
      "source": [
        "labels = ['apple', 'orange', 'apple', 'banana', 'orange', 'banana', 'banana']\n",
        "print(calculate_entroy(labels))"
      ],
      "metadata": {
        "colab": {
          "base_uri": "https://localhost:8080/"
        },
        "id": "G-prNY3ZblqM",
        "outputId": "fbc45d06-95fe-448b-9e8f-f4bca2c91cd7"
      },
      "execution_count": 11,
      "outputs": [
        {
          "output_type": "stream",
          "name": "stdout",
          "text": [
            "1.5566567074628228\n"
          ]
        }
      ]
    }
  ]
}