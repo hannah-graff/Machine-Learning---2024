{
  "nbformat": 4,
  "nbformat_minor": 0,
  "metadata": {
    "colab": {
      "provenance": []
    },
    "kernelspec": {
      "name": "python3",
      "display_name": "Python 3"
    },
    "language_info": {
      "name": "python"
    }
  },
  "cells": [
    {
      "cell_type": "code",
      "execution_count": 3,
      "metadata": {
        "id": "PNGGdhwq_Nei"
      },
      "outputs": [],
      "source": [
        "import pandas as pd\n",
        "\n",
        "tips = pd.read_csv('tips-1.csv')"
      ]
    },
    {
      "cell_type": "markdown",
      "source": [
        "Question 1"
      ],
      "metadata": {
        "id": "8key55r3_g_J"
      }
    },
    {
      "cell_type": "code",
      "source": [
        "print(\"First 10 rows:\", tips.head(10))\n",
        "print(\"DataFrame Info:\", tips.info())"
      ],
      "metadata": {
        "colab": {
          "base_uri": "https://localhost:8080/"
        },
        "id": "N0-OZoa6_kcK",
        "outputId": "fc956da9-d6f9-4a63-b184-23e1dda04e85"
      },
      "execution_count": 10,
      "outputs": [
        {
          "output_type": "stream",
          "name": "stdout",
          "text": [
            "First 10 rows:    total_bill   tip     sex smoker  day    time  size  price_per_person  \\\n",
            "0       16.99  1.01  Female     No  Sun  Dinner     2              8.49   \n",
            "1       10.34  1.66    Male     No  Sun  Dinner     3              3.45   \n",
            "2       21.01  3.50    Male     No  Sun  Dinner     3              7.00   \n",
            "3       23.68  3.31    Male     No  Sun  Dinner     2             11.84   \n",
            "4       24.59  3.61  Female     No  Sun  Dinner     4              6.15   \n",
            "5       25.29  4.71    Male     No  Sun  Dinner     4              6.32   \n",
            "6        8.77  2.00    Male     No  Sun  Dinner     2              4.38   \n",
            "7       26.88  3.12    Male     No  Sun  Dinner     4              6.72   \n",
            "8       15.04  1.96    Male     No  Sun  Dinner     2              7.52   \n",
            "9       14.78  3.23    Male     No  Sun  Dinner     2              7.39   \n",
            "\n",
            "           Payer Name         CC Number Payment ID  \n",
            "0  Christy Cunningham  3560325168603410    Sun2959  \n",
            "1      Douglas Tucker  4478071379779230    Sun4608  \n",
            "2      Travis Walters  6011812112971322    Sun4458  \n",
            "3    Nathaniel Harris  4676137647685994    Sun5260  \n",
            "4        Tonya Carter  4832732618637221    Sun2251  \n",
            "5          Erik Smith   213140353657882    Sun9679  \n",
            "6  Kristopher Johnson  2223727524230344    Sun5985  \n",
            "7         Robert Buck  3514785077705092    Sun8157  \n",
            "8     Joseph Mcdonald  3522866365840377    Sun6820  \n",
            "9       Jerome Abbott  3532124519049786    Sun3775  \n",
            "<class 'pandas.core.frame.DataFrame'>\n",
            "RangeIndex: 244 entries, 0 to 243\n",
            "Data columns (total 11 columns):\n",
            " #   Column            Non-Null Count  Dtype  \n",
            "---  ------            --------------  -----  \n",
            " 0   total_bill        244 non-null    float64\n",
            " 1   tip               244 non-null    float64\n",
            " 2   sex               244 non-null    object \n",
            " 3   smoker            244 non-null    object \n",
            " 4   day               244 non-null    object \n",
            " 5   time              244 non-null    object \n",
            " 6   size              244 non-null    int64  \n",
            " 7   price_per_person  244 non-null    float64\n",
            " 8   Payer Name        244 non-null    object \n",
            " 9   CC Number         244 non-null    int64  \n",
            " 10  Payment ID        244 non-null    object \n",
            "dtypes: float64(3), int64(2), object(6)\n",
            "memory usage: 21.1+ KB\n",
            "DataFrame Info: None\n"
          ]
        }
      ]
    },
    {
      "cell_type": "markdown",
      "source": [
        "Question 2"
      ],
      "metadata": {
        "id": "Ed2e0QZ0_rTi"
      }
    },
    {
      "cell_type": "code",
      "source": [
        "print(f\"Average for total bill: ${(tips['total_bill'].mean()):.2f}\")\n",
        "print(f\"Average for tip: ${(tips['tip'].mean()):.2f}\")\n",
        "print(\"Largest group:\", tips['size'].max())"
      ],
      "metadata": {
        "colab": {
          "base_uri": "https://localhost:8080/"
        },
        "id": "wSnybQl-_shm",
        "outputId": "e634e20e-4643-4478-e575-1a6a484ff841"
      },
      "execution_count": 27,
      "outputs": [
        {
          "output_type": "stream",
          "name": "stdout",
          "text": [
            "Average for total bill: $19.79\n",
            "Average for tip: $3.00\n",
            "Largest group: 6\n"
          ]
        }
      ]
    },
    {
      "cell_type": "markdown",
      "source": [
        "Question 3"
      ],
      "metadata": {
        "id": "UGNYnV-5AInV"
      }
    },
    {
      "cell_type": "code",
      "source": [
        "tips_lg = tips[tips['tip']>5]\n",
        "print(\"Tips greater than $5:\\n\", tips_lg.head())\n",
        "tips_din = tips[tips['time'] == 'Dinner']\n",
        "# count = tips_din.shape[0]\n",
        "print(\"\\nDataset filtered by dinnertime:\", len(tips_din))"
      ],
      "metadata": {
        "colab": {
          "base_uri": "https://localhost:8080/"
        },
        "id": "d9i1rui9AJ-_",
        "outputId": "56253186-6f96-439e-83c7-03fa5f4f3757"
      },
      "execution_count": 30,
      "outputs": [
        {
          "output_type": "stream",
          "name": "stdout",
          "text": [
            "Tips greater than $5:\n",
            "     total_bill   tip     sex smoker  day    time  size  price_per_person  \\\n",
            "23       39.42  7.58    Male     No  Sat  Dinner     4              9.86   \n",
            "44       30.40  5.60    Male     No  Sun  Dinner     4              7.60   \n",
            "47       32.40  6.00    Male     No  Sun  Dinner     4              8.10   \n",
            "52       34.81  5.20  Female     No  Sun  Dinner     4              8.70   \n",
            "59       48.27  6.73    Male     No  Sat  Dinner     4             12.07   \n",
            "\n",
            "        Payer Name         CC Number Payment ID  \n",
            "23  Lance Peterson  3542584061609808     Sat239  \n",
            "44     Todd Cooper      503846761263    Sun2274  \n",
            "47    James Barnes  3552002592874186    Sun9677  \n",
            "52    Emily Daniel  4291280793094374    Sun6165  \n",
            "59     Brian Ortiz  6596453823950595    Sat8139  \n",
            "\n",
            "Dataset filtered by dinnertime: 176\n"
          ]
        }
      ]
    },
    {
      "cell_type": "markdown",
      "source": [
        "Question 4"
      ],
      "metadata": {
        "id": "7yb_YzRQBbN3"
      }
    },
    {
      "cell_type": "code",
      "source": [
        "if tips.isnull().values.any():\n",
        "  # Filling in missing values with the mean of the respective columns\n",
        "  tips.fillna(tips.mean(), inplace=True)\n",
        "else:\n",
        "  print(\"No missing values\")"
      ],
      "metadata": {
        "colab": {
          "base_uri": "https://localhost:8080/"
        },
        "id": "ESotX8f6BcId",
        "outputId": "9d2e413b-d8a4-41fe-d2d4-9ddb634b8cd2"
      },
      "execution_count": 34,
      "outputs": [
        {
          "output_type": "stream",
          "name": "stdout",
          "text": [
            "No missing values\n"
          ]
        }
      ]
    },
    {
      "cell_type": "markdown",
      "source": [
        "Question 5"
      ],
      "metadata": {
        "id": "00ghr2vdCN9G"
      }
    },
    {
      "cell_type": "code",
      "source": [
        "tips['tip_percentage'] = (tips['tip'] / tips['total_bill']) * 100\n",
        "tips['tip_per_person'] = (tips['tip'] / tips['size'])\n",
        "\n",
        "print(tips.head())"
      ],
      "metadata": {
        "colab": {
          "base_uri": "https://localhost:8080/"
        },
        "id": "lqNHZB8QCPL0",
        "outputId": "e52650f8-a971-4438-8999-13dd8f1bf92c"
      },
      "execution_count": 33,
      "outputs": [
        {
          "output_type": "stream",
          "name": "stdout",
          "text": [
            "   total_bill   tip     sex smoker  day    time  size  price_per_person  \\\n",
            "0       16.99  1.01  Female     No  Sun  Dinner     2              8.49   \n",
            "1       10.34  1.66    Male     No  Sun  Dinner     3              3.45   \n",
            "2       21.01  3.50    Male     No  Sun  Dinner     3              7.00   \n",
            "3       23.68  3.31    Male     No  Sun  Dinner     2             11.84   \n",
            "4       24.59  3.61  Female     No  Sun  Dinner     4              6.15   \n",
            "\n",
            "           Payer Name         CC Number Payment ID  tip_percentage  \\\n",
            "0  Christy Cunningham  3560325168603410    Sun2959        5.944673   \n",
            "1      Douglas Tucker  4478071379779230    Sun4608       16.054159   \n",
            "2      Travis Walters  6011812112971322    Sun4458       16.658734   \n",
            "3    Nathaniel Harris  4676137647685994    Sun5260       13.978041   \n",
            "4        Tonya Carter  4832732618637221    Sun2251       14.680765   \n",
            "\n",
            "   tip_per_person  \n",
            "0        0.505000  \n",
            "1        0.553333  \n",
            "2        1.166667  \n",
            "3        1.655000  \n",
            "4        0.902500  \n"
          ]
        }
      ]
    },
    {
      "cell_type": "markdown",
      "source": [
        "Question 6"
      ],
      "metadata": {
        "id": "ZqPMKxZDDXrY"
      }
    },
    {
      "cell_type": "code",
      "source": [
        "average_bill_day = tips.groupby('day')['total_bill'].mean()\n",
        "print(\"Average bill per day:\\n\", average_bill_day)\n",
        "avg_by_sex = tips.groupby('sex')['total_bill'].mean()\n",
        "print(\"\\nAverage by sex:\\n\", avg_by_sex)"
      ],
      "metadata": {
        "colab": {
          "base_uri": "https://localhost:8080/"
        },
        "id": "KD3D7MKvDYjo",
        "outputId": "5fd5da27-f6ed-4f9b-b5ad-e623f6971450"
      },
      "execution_count": 45,
      "outputs": [
        {
          "output_type": "stream",
          "name": "stdout",
          "text": [
            "Average bill per day:\n",
            " day\n",
            "Fri     17.151579\n",
            "Sat     20.441379\n",
            "Sun     21.410000\n",
            "Thur    17.682742\n",
            "Name: total_bill, dtype: float64\n",
            "\n",
            "Average by sex:\n",
            " sex\n",
            "Female    18.056897\n",
            "Male      20.744076\n",
            "Name: total_bill, dtype: float64\n"
          ]
        }
      ]
    },
    {
      "cell_type": "markdown",
      "source": [
        "Question 7"
      ],
      "metadata": {
        "id": "_-0CnsGmD83p"
      }
    },
    {
      "cell_type": "code",
      "source": [
        "tips.to_csv('processed_tips.csv', index=False)"
      ],
      "metadata": {
        "id": "TYFDc9OCD9-n"
      },
      "execution_count": 43,
      "outputs": []
    }
  ]
}