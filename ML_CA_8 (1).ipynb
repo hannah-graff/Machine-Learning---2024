{
  "nbformat": 4,
  "nbformat_minor": 0,
  "metadata": {
    "colab": {
      "provenance": []
    },
    "kernelspec": {
      "name": "python3",
      "display_name": "Python 3"
    },
    "language_info": {
      "name": "python"
    }
  },
  "cells": [
    {
      "cell_type": "code",
      "execution_count": 44,
      "metadata": {
        "id": "gYPsJAwSChb2"
      },
      "outputs": [],
      "source": [
        "import pandas as pd\n",
        "from sklearn.feature_extraction.text import CountVectorizer\n",
        "from sklearn.model_selection import train_test_split\n",
        "from sklearn.naive_bayes import MultinomialNB\n",
        "from sklearn.metrics import accuracy_score, precision_recall_fscore_support"
      ]
    },
    {
      "cell_type": "code",
      "source": [
        "# Data Preparation\n",
        "spam = pd.read_csv('spam_emails.csv')\n",
        "x = spam['text']\n",
        "y = spam['label'] #spam, ham"
      ],
      "metadata": {
        "id": "ssTkbFZbCuC6"
      },
      "execution_count": 10,
      "outputs": []
    },
    {
      "cell_type": "code",
      "source": [
        "# Model Training\n",
        "x_train, x_test, y_train, y_test = train_test_split(x, y, test_size=0.2, random_state=42)"
      ],
      "metadata": {
        "id": "F5rzRiASDDgA"
      },
      "execution_count": 31,
      "outputs": []
    },
    {
      "cell_type": "code",
      "source": [
        "# Text Preprocessing\n",
        "vectorizer = CountVectorizer(stop_words='english', max_features=2000)"
      ],
      "metadata": {
        "id": "WvIU9eyIC6RJ"
      },
      "execution_count": 38,
      "outputs": []
    },
    {
      "cell_type": "code",
      "source": [
        "# Model Evaluation\n",
        "x_train_counts = vectorizer.fit_transform(x_train)\n",
        "x_test_counts = vectorizer.transform(x_test)\n",
        "\n",
        "clf = MultinomialNB(alpha=0.5)\n",
        "clf.fit(x_train_counts, y_train)\n",
        "\n",
        "y_pred = clf.predict(x_test_counts)\n",
        "\n",
        "accuracy = accuracy_score(y_test, y_pred)\n",
        "precision, recall, f1_score, _ = precision_recall_fscore_support(y_test, y_pred, average='binary')\n",
        "print(f'Accuracy: {accuracy*100:.2f}%')\n",
        "print(f'Precision: {precision:.2f}%')\n",
        "print(f'Recall: {recall:.2f}%')\n",
        "print(f'F1 Score: {f1_score:.2f}%')"
      ],
      "metadata": {
        "colab": {
          "base_uri": "https://localhost:8080/"
        },
        "id": "fu9eY96nEGVI",
        "outputId": "29c7a5c6-ca3b-4bb0-9789-c7f3438d7b45"
      },
      "execution_count": 45,
      "outputs": [
        {
          "output_type": "stream",
          "name": "stdout",
          "text": [
            "Accuracy: 100.00%\n",
            "Precision: 0.00%\n",
            "Recall: 0.00%\n",
            "F1 Score: 0.00%\n"
          ]
        },
        {
          "output_type": "stream",
          "name": "stderr",
          "text": [
            "/usr/local/lib/python3.10/dist-packages/numpy/lib/arraysetops.py:608: FutureWarning: elementwise comparison failed; returning scalar instead, but in the future will perform elementwise comparison\n",
            "  mask &= (ar1 != a)\n",
            "/usr/local/lib/python3.10/dist-packages/sklearn/metrics/_classification.py:1344: UndefinedMetricWarning: Precision and F-score are ill-defined and being set to 0.0 due to no predicted samples. Use `zero_division` parameter to control this behavior.\n",
            "  _warn_prf(average, modifier, msg_start, len(result))\n",
            "/usr/local/lib/python3.10/dist-packages/sklearn/metrics/_classification.py:1344: UndefinedMetricWarning: Recall and F-score are ill-defined and being set to 0.0 due to no true samples. Use `zero_division` parameter to control this behavior.\n",
            "  _warn_prf(average, modifier, msg_start, len(result))\n"
          ]
        }
      ]
    },
    {
      "cell_type": "code",
      "source": [
        "# Experimentation\n",
        "# (see above)\n",
        "# Changed alpha to 0.5, max_features to 2,000\n",
        "# No effect on the data"
      ],
      "metadata": {
        "id": "n1ox1s7kGQoC"
      },
      "execution_count": null,
      "outputs": []
    }
  ]
}