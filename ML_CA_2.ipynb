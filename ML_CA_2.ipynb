{
  "nbformat": 4,
  "nbformat_minor": 0,
  "metadata": {
    "colab": {
      "provenance": []
    },
    "kernelspec": {
      "name": "python3",
      "display_name": "Python 3"
    },
    "language_info": {
      "name": "python"
    }
  },
  "cells": [
    {
      "cell_type": "code",
      "execution_count": 1,
      "metadata": {
        "id": "s2dzIvPF_lSk"
      },
      "outputs": [],
      "source": [
        "import numpy as np"
      ]
    },
    {
      "cell_type": "markdown",
      "source": [
        "Question 1"
      ],
      "metadata": {
        "id": "4tAtnNAOAJu-"
      }
    },
    {
      "cell_type": "code",
      "source": [
        "A = np.ones((4,5))\n",
        "print(\"A =\", A)\n",
        "B = np.zeros((4,5))\n",
        "print(\"\\nB =\", B)\n",
        "print(\"\\nData type of A:\", A.dtype)"
      ],
      "metadata": {
        "colab": {
          "base_uri": "https://localhost:8080/"
        },
        "id": "UEj1c0Uy_qtY",
        "outputId": "3bc3f26b-8640-4f25-f64e-7f5308ef8f24"
      },
      "execution_count": 20,
      "outputs": [
        {
          "output_type": "stream",
          "name": "stdout",
          "text": [
            "A = [[1. 1. 1. 1. 1.]\n",
            " [1. 1. 1. 1. 1.]\n",
            " [1. 1. 1. 1. 1.]\n",
            " [1. 1. 1. 1. 1.]]\n",
            "\n",
            "B = [[0. 0. 0. 0. 0.]\n",
            " [0. 0. 0. 0. 0.]\n",
            " [0. 0. 0. 0. 0.]\n",
            " [0. 0. 0. 0. 0.]]\n",
            "\n",
            "Data type of A: float64\n"
          ]
        }
      ]
    },
    {
      "cell_type": "markdown",
      "source": [
        "Question 2"
      ],
      "metadata": {
        "id": "m7YWq_ANAMi4"
      }
    },
    {
      "cell_type": "code",
      "source": [
        "C = A[:2,-3:]\n",
        "print(\"New array C:\\n\", C)\n",
        "\n",
        "D = B[:2,-3:].copy()\n",
        "print(\"\\nNew array D:\\n\", D)"
      ],
      "metadata": {
        "colab": {
          "base_uri": "https://localhost:8080/"
        },
        "id": "ZJFuIEJ2ANak",
        "outputId": "8613099f-7dc0-4193-943a-1b331d6c2c42"
      },
      "execution_count": 11,
      "outputs": [
        {
          "output_type": "stream",
          "name": "stdout",
          "text": [
            "New array C:\n",
            " [[1. 1. 1.]\n",
            " [1. 1. 1.]]\n",
            "\n",
            "New array D:\n",
            " [[0. 0. 0.]\n",
            " [0. 0. 0.]]\n"
          ]
        }
      ]
    },
    {
      "cell_type": "markdown",
      "source": [
        "Question 3"
      ],
      "metadata": {
        "id": "jczOd8ODAptJ"
      }
    },
    {
      "cell_type": "code",
      "source": [
        "D[D == 0] = -1\n",
        "print(\"D with replaced values:\\n\", D)"
      ],
      "metadata": {
        "colab": {
          "base_uri": "https://localhost:8080/"
        },
        "id": "6snHF0EyArDG",
        "outputId": "052312f1-1de8-4a16-86b3-6d25653ed76f"
      },
      "execution_count": 21,
      "outputs": [
        {
          "output_type": "stream",
          "name": "stdout",
          "text": [
            "D with replaced values:\n",
            " [[-1. -1. -1.]\n",
            " [-1. -1. -1.]]\n"
          ]
        }
      ]
    },
    {
      "cell_type": "markdown",
      "source": [
        "Question 4"
      ],
      "metadata": {
        "id": "Grt0wWGjBUhe"
      }
    },
    {
      "cell_type": "code",
      "source": [
        "E = C.reshape((3,2))\n",
        "print(\"E with reshape:\\n\", E)\n",
        "F = E.T\n",
        "print(\"F, transpose of E:\\n\", F)"
      ],
      "metadata": {
        "colab": {
          "base_uri": "https://localhost:8080/"
        },
        "id": "HsvbfcU1BWU8",
        "outputId": "6b58fa5a-d533-4b93-b713-412a2b52f098"
      },
      "execution_count": 23,
      "outputs": [
        {
          "output_type": "stream",
          "name": "stdout",
          "text": [
            "E with reshape:\n",
            " [[1. 1.]\n",
            " [1. 1.]\n",
            " [1. 1.]]\n",
            "F, transpose of E:\n",
            " [[1. 1. 1.]\n",
            " [1. 1. 1.]]\n"
          ]
        }
      ]
    },
    {
      "cell_type": "markdown",
      "source": [
        "Question 5"
      ],
      "metadata": {
        "id": "b8HZqQWaCDcI"
      }
    }
  ]
}