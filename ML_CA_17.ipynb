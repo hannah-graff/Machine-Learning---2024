{
  "nbformat": 4,
  "nbformat_minor": 0,
  "metadata": {
    "colab": {
      "provenance": []
    },
    "kernelspec": {
      "name": "python3",
      "display_name": "Python 3"
    },
    "language_info": {
      "name": "python"
    }
  },
  "cells": [
    {
      "cell_type": "code",
      "execution_count": 4,
      "metadata": {
        "colab": {
          "base_uri": "https://localhost:8080/"
        },
        "id": "7DoTnjZfIXR6",
        "outputId": "462f8c2f-5ca7-4cf0-f20c-bcbd873e39fc"
      },
      "outputs": [
        {
          "output_type": "stream",
          "name": "stdout",
          "text": [
            "Data Shape: (1797, 64)\n"
          ]
        },
        {
          "output_type": "stream",
          "name": "stderr",
          "text": [
            "/usr/local/lib/python3.10/dist-packages/sklearn/cluster/_kmeans.py:870: FutureWarning: The default value of `n_init` will change from 10 to 'auto' in 1.4. Set the value of `n_init` explicitly to suppress the warning\n",
            "  warnings.warn(\n"
          ]
        },
        {
          "output_type": "stream",
          "name": "stdout",
          "text": [
            "Cluster centers shape: (10, 64)\n",
            "First 10 cluster labels: [3 9 9 2 4 0 6 1 9 0]\n"
          ]
        }
      ],
      "source": [
        "import numpy as np\n",
        "from sklearn.cluster import KMeans\n",
        "import matplotlib.pyplot as plt\n",
        "from sklearn.datasets import load_digits\n",
        "\n",
        "digits = load_digits()\n",
        "\n",
        "X = digits.data\n",
        "print(f\"Data Shape: {X.shape}\")\n",
        "\n",
        "k = 10\n",
        "kmeans = KMeans(n_clusters=k)\n",
        "\n",
        "kmeans.fit(X)\n",
        "\n",
        "y_kmeans = kmeans.predict(X)\n",
        "\n",
        "print(\"Cluster centers shape:\", kmeans.cluster_centers_.shape)\n",
        "print(\"First 10 cluster labels:\", y_kmeans[0:10])"
      ]
    }
  ]
}