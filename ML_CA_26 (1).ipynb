{
  "nbformat": 4,
  "nbformat_minor": 0,
  "metadata": {
    "colab": {
      "provenance": []
    },
    "kernelspec": {
      "name": "python3",
      "display_name": "Python 3"
    },
    "language_info": {
      "name": "python"
    }
  },
  "cells": [
    {
      "cell_type": "code",
      "execution_count": 2,
      "metadata": {
        "colab": {
          "base_uri": "https://localhost:8080/"
        },
        "id": "3ega1He7ZG6w",
        "outputId": "33d782b9-40c8-4a45-d15f-1823fdd1423e"
      },
      "outputs": [
        {
          "output_type": "stream",
          "name": "stdout",
          "text": [
            "24/24 [==============================] - 0s 2ms/step - loss: 0.6415 - accuracy: 0.6628\n",
            "Accuracy: 66.28\n",
            "Saved model to disk\n"
          ]
        },
        {
          "output_type": "stream",
          "name": "stderr",
          "text": [
            "/usr/local/lib/python3.10/dist-packages/keras/src/engine/training.py:3103: UserWarning: You are saving your model as an HDF5 file via `model.save()`. This file format is considered legacy. We recommend using instead the native Keras format, e.g. `model.save('my_model.keras')`.\n",
            "  saving_api.save_model(\n"
          ]
        }
      ],
      "source": [
        "import pandas as pd\n",
        "import numpy as np\n",
        "from keras.models import Sequential, load_model\n",
        "from keras.layers import Dense\n",
        "\n",
        "data = pd.read_csv('synthetic_diabetes.csv')\n",
        "X = data.drop('Outcome', axis=1).values\n",
        "Y = data['Outcome'].values\n",
        "\n",
        "model = Sequential([Dense(12, input_dim=8, activation='relu'),\n",
        "                    Dense(8, activation='relu'),\n",
        "                    Dense(1, activation='sigmoid')])\n",
        "\n",
        "model.compile(loss='binary_crossentropy', optimizer='adam', metrics=['accuracy'])\n",
        "model.fit(X, Y, epochs=100, batch_size=16, verbose=0)\n",
        "\n",
        "_, accuracy = model.evaluate(X, Y, verbose=0)\n",
        "print('Accuracy: %.2f' % (accuracy*100))\n",
        "del model\n",
        "model = load_model(\"model_diabetes.h5\")\n",
        "\n",
        "_, accuracy = model.evaluate(X, Y, verbose=0)\n",
        "print('Reloaded Accuracy: %.2f' % (accuracy*100))"
      ]
    },
    {
      "cell_type": "code",
      "source": [],
      "metadata": {
        "id": "8v1qBakcZuu0"
      },
      "execution_count": null,
      "outputs": []
    }
  ]
}